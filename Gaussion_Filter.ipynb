{
  "nbformat": 4,
  "nbformat_minor": 0,
  "metadata": {
    "colab": {
      "name": "Gaussion_Filter.ipynb",
      "provenance": [],
      "authorship_tag": "ABX9TyPgWX9COx7ZPQrbKMXglIIV",
      "include_colab_link": true
    },
    "kernelspec": {
      "display_name": "Python 3",
      "name": "python3"
    },
    "language_info": {
      "name": "python"
    },
    "widgets": {
      "application/vnd.jupyter.widget-state+json": {
        "3cab62ab6f6e48b8ac7af48bc1305049": {
          "model_module": "@jupyter-widgets/controls",
          "model_name": "VBoxModel",
          "state": {
            "_view_name": "VBoxView",
            "_dom_classes": [
              "widget-interact"
            ],
            "_model_name": "VBoxModel",
            "_view_module": "@jupyter-widgets/controls",
            "_model_module_version": "1.5.0",
            "_view_count": null,
            "_view_module_version": "1.5.0",
            "box_style": "",
            "layout": "IPY_MODEL_f7270e20c5d74ff4b23a883ef065acbb",
            "_model_module": "@jupyter-widgets/controls",
            "children": [
              "IPY_MODEL_2ed94ca07a444cdfa0b09c7f0c14fac9",
              "IPY_MODEL_c08bd3751c054964bfb56e76bb509dca",
              "IPY_MODEL_1df7d97e5bab4e8897e7ec802b38ee5a"
            ]
          }
        },
        "f7270e20c5d74ff4b23a883ef065acbb": {
          "model_module": "@jupyter-widgets/base",
          "model_name": "LayoutModel",
          "state": {
            "_view_name": "LayoutView",
            "grid_template_rows": null,
            "right": null,
            "justify_content": null,
            "_view_module": "@jupyter-widgets/base",
            "overflow": null,
            "_model_module_version": "1.2.0",
            "_view_count": null,
            "flex_flow": null,
            "width": null,
            "min_width": null,
            "border": null,
            "align_items": null,
            "bottom": null,
            "_model_module": "@jupyter-widgets/base",
            "top": null,
            "grid_column": null,
            "overflow_y": null,
            "overflow_x": null,
            "grid_auto_flow": null,
            "grid_area": null,
            "grid_template_columns": null,
            "flex": null,
            "_model_name": "LayoutModel",
            "justify_items": null,
            "grid_row": null,
            "max_height": null,
            "align_content": null,
            "visibility": null,
            "align_self": null,
            "height": null,
            "min_height": null,
            "padding": null,
            "grid_auto_rows": null,
            "grid_gap": null,
            "max_width": null,
            "order": null,
            "_view_module_version": "1.2.0",
            "grid_template_areas": null,
            "object_position": null,
            "object_fit": null,
            "grid_auto_columns": null,
            "margin": null,
            "display": null,
            "left": null
          }
        },
        "2ed94ca07a444cdfa0b09c7f0c14fac9": {
          "model_module": "@jupyter-widgets/controls",
          "model_name": "FloatTextModel",
          "state": {
            "_view_name": "FloatTextView",
            "style": "IPY_MODEL_ba8db126d5cb4c7ea4a6936ca7a96ecd",
            "_dom_classes": [],
            "description": "Lifetime:",
            "_model_name": "FloatTextModel",
            "_view_module": "@jupyter-widgets/controls",
            "_model_module_version": "1.5.0",
            "value": 0.1,
            "_view_count": null,
            "disabled": false,
            "_view_module_version": "1.5.0",
            "continuous_update": false,
            "step": null,
            "description_tooltip": null,
            "_model_module": "@jupyter-widgets/controls",
            "layout": "IPY_MODEL_d5fc564fc7bc47c3965449dbd1d348f8"
          }
        },
        "c08bd3751c054964bfb56e76bb509dca": {
          "model_module": "@jupyter-widgets/controls",
          "model_name": "FloatSliderModel",
          "state": {
            "_view_name": "FloatSliderView",
            "style": "IPY_MODEL_9722497c7b4f4414820167e7cf51f4af",
            "_dom_classes": [],
            "description": "Mode:",
            "step": 0.1,
            "_model_name": "FloatSliderModel",
            "orientation": "horizontal",
            "max": 3,
            "_view_module": "@jupyter-widgets/controls",
            "_model_module_version": "1.5.0",
            "value": 1,
            "_view_count": null,
            "disabled": false,
            "_view_module_version": "1.5.0",
            "min": 0.1,
            "continuous_update": false,
            "readout_format": ".1f",
            "description_tooltip": null,
            "readout": true,
            "_model_module": "@jupyter-widgets/controls",
            "layout": "IPY_MODEL_b3fd355f7d7f490d8c25ff92cbdcb7f9"
          }
        },
        "1df7d97e5bab4e8897e7ec802b38ee5a": {
          "model_module": "@jupyter-widgets/output",
          "model_name": "OutputModel",
          "state": {
            "_view_name": "OutputView",
            "msg_id": "",
            "_dom_classes": [],
            "_model_name": "OutputModel",
            "outputs": [
              {
                "output_type": "display_data",
                "metadata": {
                  "tags": [],
                  "needs_background": "light"
                },
                "image/png": "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\n",
                "text/plain": "<Figure size 432x288 with 3 Axes>"
              }
            ],
            "_view_module": "@jupyter-widgets/output",
            "_model_module_version": "1.0.0",
            "_view_count": null,
            "_view_module_version": "1.0.0",
            "layout": "IPY_MODEL_cb4ca19589124a2c9aeaf31b9bbb7ca8",
            "_model_module": "@jupyter-widgets/output"
          }
        },
        "ba8db126d5cb4c7ea4a6936ca7a96ecd": {
          "model_module": "@jupyter-widgets/controls",
          "model_name": "DescriptionStyleModel",
          "state": {
            "_view_name": "StyleView",
            "_model_name": "DescriptionStyleModel",
            "description_width": "",
            "_view_module": "@jupyter-widgets/base",
            "_model_module_version": "1.5.0",
            "_view_count": null,
            "_view_module_version": "1.2.0",
            "_model_module": "@jupyter-widgets/controls"
          }
        },
        "d5fc564fc7bc47c3965449dbd1d348f8": {
          "model_module": "@jupyter-widgets/base",
          "model_name": "LayoutModel",
          "state": {
            "_view_name": "LayoutView",
            "grid_template_rows": null,
            "right": null,
            "justify_content": null,
            "_view_module": "@jupyter-widgets/base",
            "overflow": null,
            "_model_module_version": "1.2.0",
            "_view_count": null,
            "flex_flow": null,
            "width": null,
            "min_width": null,
            "border": null,
            "align_items": null,
            "bottom": null,
            "_model_module": "@jupyter-widgets/base",
            "top": null,
            "grid_column": null,
            "overflow_y": null,
            "overflow_x": null,
            "grid_auto_flow": null,
            "grid_area": null,
            "grid_template_columns": null,
            "flex": null,
            "_model_name": "LayoutModel",
            "justify_items": null,
            "grid_row": null,
            "max_height": null,
            "align_content": null,
            "visibility": null,
            "align_self": null,
            "height": null,
            "min_height": null,
            "padding": null,
            "grid_auto_rows": null,
            "grid_gap": null,
            "max_width": null,
            "order": null,
            "_view_module_version": "1.2.0",
            "grid_template_areas": null,
            "object_position": null,
            "object_fit": null,
            "grid_auto_columns": null,
            "margin": null,
            "display": null,
            "left": null
          }
        },
        "9722497c7b4f4414820167e7cf51f4af": {
          "model_module": "@jupyter-widgets/controls",
          "model_name": "SliderStyleModel",
          "state": {
            "_view_name": "StyleView",
            "handle_color": null,
            "_model_name": "SliderStyleModel",
            "description_width": "",
            "_view_module": "@jupyter-widgets/base",
            "_model_module_version": "1.5.0",
            "_view_count": null,
            "_view_module_version": "1.2.0",
            "_model_module": "@jupyter-widgets/controls"
          }
        },
        "b3fd355f7d7f490d8c25ff92cbdcb7f9": {
          "model_module": "@jupyter-widgets/base",
          "model_name": "LayoutModel",
          "state": {
            "_view_name": "LayoutView",
            "grid_template_rows": null,
            "right": null,
            "justify_content": null,
            "_view_module": "@jupyter-widgets/base",
            "overflow": null,
            "_model_module_version": "1.2.0",
            "_view_count": null,
            "flex_flow": null,
            "width": null,
            "min_width": null,
            "border": null,
            "align_items": null,
            "bottom": null,
            "_model_module": "@jupyter-widgets/base",
            "top": null,
            "grid_column": null,
            "overflow_y": null,
            "overflow_x": null,
            "grid_auto_flow": null,
            "grid_area": null,
            "grid_template_columns": null,
            "flex": null,
            "_model_name": "LayoutModel",
            "justify_items": null,
            "grid_row": null,
            "max_height": null,
            "align_content": null,
            "visibility": null,
            "align_self": null,
            "height": null,
            "min_height": null,
            "padding": null,
            "grid_auto_rows": null,
            "grid_gap": null,
            "max_width": null,
            "order": null,
            "_view_module_version": "1.2.0",
            "grid_template_areas": null,
            "object_position": null,
            "object_fit": null,
            "grid_auto_columns": null,
            "margin": null,
            "display": null,
            "left": null
          }
        },
        "cb4ca19589124a2c9aeaf31b9bbb7ca8": {
          "model_module": "@jupyter-widgets/base",
          "model_name": "LayoutModel",
          "state": {
            "_view_name": "LayoutView",
            "grid_template_rows": null,
            "right": null,
            "justify_content": null,
            "_view_module": "@jupyter-widgets/base",
            "overflow": null,
            "_model_module_version": "1.2.0",
            "_view_count": null,
            "flex_flow": null,
            "width": null,
            "min_width": null,
            "border": null,
            "align_items": null,
            "bottom": null,
            "_model_module": "@jupyter-widgets/base",
            "top": null,
            "grid_column": null,
            "overflow_y": null,
            "overflow_x": null,
            "grid_auto_flow": null,
            "grid_area": null,
            "grid_template_columns": null,
            "flex": null,
            "_model_name": "LayoutModel",
            "justify_items": null,
            "grid_row": null,
            "max_height": null,
            "align_content": null,
            "visibility": null,
            "align_self": null,
            "height": null,
            "min_height": null,
            "padding": null,
            "grid_auto_rows": null,
            "grid_gap": null,
            "max_width": null,
            "order": null,
            "_view_module_version": "1.2.0",
            "grid_template_areas": null,
            "object_position": null,
            "object_fit": null,
            "grid_auto_columns": null,
            "margin": null,
            "display": null,
            "left": null
          }
        }
      }
    }
  },
  "cells": [
    {
      "cell_type": "markdown",
      "metadata": {
        "id": "view-in-github",
        "colab_type": "text"
      },
      "source": [
        "<a href=\"https://colab.research.google.com/github/Delphia-Nien/Devices/blob/main/Gaussion_Filter.ipynb\" target=\"_parent\"><img src=\"https://colab.research.google.com/assets/colab-badge.svg\" alt=\"Open In Colab\"/></a>"
      ]
    },
    {
      "cell_type": "code",
      "metadata": {
        "colab": {
          "base_uri": "https://localhost:8080/",
          "height": 227,
          "referenced_widgets": [
            "3cab62ab6f6e48b8ac7af48bc1305049",
            "f7270e20c5d74ff4b23a883ef065acbb",
            "2ed94ca07a444cdfa0b09c7f0c14fac9",
            "c08bd3751c054964bfb56e76bb509dca",
            "1df7d97e5bab4e8897e7ec802b38ee5a",
            "ba8db126d5cb4c7ea4a6936ca7a96ecd",
            "d5fc564fc7bc47c3965449dbd1d348f8",
            "9722497c7b4f4414820167e7cf51f4af",
            "b3fd355f7d7f490d8c25ff92cbdcb7f9",
            "cb4ca19589124a2c9aeaf31b9bbb7ca8"
          ]
        },
        "id": "1MFfsM5e5uzI",
        "outputId": "e21bc7f2-8ea3-47b9-bf96-573c6d0b7b47"
      },
      "source": [
        "import ipywidgets as widgets\n",
        "from ipywidgets import interact\n",
        "import numpy as np\n",
        "import matplotlib.pyplot as plt\n",
        "import math\n",
        "from scipy.fft import fft, ifft\n",
        "from scipy import signal\n",
        "\n",
        "def PL_pattern(t, a):\n",
        "  \n",
        "  x1 = np.arange(-10, 10, 0.1)\n",
        "  y1 = np.arange(-10, 10, 0.1)\n",
        "  PL = [[0]*len(y1) for i in range(len(x1))]\n",
        "  for i in range(len(x1)):\n",
        "    for j in range(len(y1)):\n",
        "      PL[i][j] = -t*math.sqrt((x1[i]**2+y1[j]**2)/2)**a+1\n",
        "\n",
        "  x2 = np.arange(-2, 2, 0.01)\n",
        "  y2 = np.arange(-2, 2, 0.01)\n",
        "  Gaus = [[0]*len(y2) for i in range(len(x2))]\n",
        "  for i in range(len(x2)):\n",
        "    for j in range(len(y2)):\n",
        "      Gaus[i][j] = math.exp(-(x2[i]**2+y2[j]**2))\n",
        "\n",
        "  #decvlt = ifft(fft(PL)/fft(Gaus))\n",
        "  decvlt = signal.deconvolve(PL, Gaus)\n",
        "\n",
        "  plt.figure()\n",
        "  ax1 = plt.subplot(131)\n",
        "  plt.imshow(PL, extent=[np.min(x2), np.max(x2), np.min(y2), np.max(y2)])\n",
        "  ax2 = plt.subplot(132)\n",
        "  plt.imshow(Gaus, extent=[np.min(x2), np.max(x2), np.min(y2), np.max(y2)])\n",
        "  ax3 = plt.subplot(133)\n",
        "  plt.imshow(decvlt[1], extent=[np.min(x2), np.max(x2), np.min(y2), np.max(y2)])\n",
        "  plt.show()\n",
        "\n",
        "interact(PL_pattern, \n",
        "         t = widgets.FloatText(value=0.1, description='Lifetime:', disabled=False),\n",
        "         a = widgets.FloatSlider(value=1, min=0.1, max=3, step=0.1, description='Mode:', disabled=False, continuous_update=False, orientation='horizontal', readout=True, readout_format='.1f')\n",
        "         )\n"
      ],
      "execution_count": null,
      "outputs": [
        {
          "output_type": "display_data",
          "data": {
            "application/vnd.jupyter.widget-view+json": {
              "model_id": "3cab62ab6f6e48b8ac7af48bc1305049",
              "version_minor": 0,
              "version_major": 2
            },
            "text/plain": [
              "interactive(children=(FloatText(value=0.1, description='Lifetime:'), FloatSlider(value=1.0, continuous_update=…"
            ]
          },
          "metadata": {
            "tags": []
          }
        },
        {
          "output_type": "execute_result",
          "data": {
            "text/plain": [
              "<function __main__.PL_pattern>"
            ]
          },
          "metadata": {
            "tags": []
          },
          "execution_count": 1
        }
      ]
    }
  ]
}